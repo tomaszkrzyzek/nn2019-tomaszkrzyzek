{
  "nbformat": 4,
  "nbformat_minor": 0,
  "metadata": {
    "colab": {
      "name": "kaggle3.ipynb",
      "version": "0.3.2",
      "provenance": [],
      "collapsed_sections": []
    },
    "language_info": {
      "codemirror_mode": {
        "name": "ipython",
        "version": 3
      },
      "file_extension": ".py",
      "mimetype": "text/x-python",
      "name": "python",
      "nbconvert_exporter": "python",
      "pygments_lexer": "ipython3",
      "version": "3.6.8"
    },
    "kernelspec": {
      "name": "python3",
      "display_name": "Python 3"
    },
    "accelerator": "GPU"
  },
  "cells": [
    {
      "cell_type": "code",
      "metadata": {
        "id": "PNXqQU73ac_g",
        "colab_type": "code",
        "outputId": "865949e0-8a7e-41f4-a2e1-0aade60f16a5",
        "colab": {
          "base_uri": "https://localhost:8080/",
          "height": 165
        }
      },
      "source": [
        "!git clone https://github.com/tomaszkrzyzek/nn2019_kaggle3_data.git"
      ],
      "execution_count": 0,
      "outputs": [
        {
          "output_type": "stream",
          "text": [
            "Cloning into 'nn2019_kaggle3_data'...\n",
            "remote: Enumerating objects: 20392, done.\u001b[K\n",
            "remote: Counting objects: 100% (20392/20392), done.\u001b[K\n",
            "remote: Compressing objects: 100% (10539/10539), done.\u001b[K\n",
            "remote: Total 20392 (delta 9853), reused 20392 (delta 9853), pack-reused 0\u001b[K\n",
            "Receiving objects: 100% (20392/20392), 22.00 MiB | 32.84 MiB/s, done.\n",
            "Resolving deltas: 100% (9853/9853), done.\n"
          ],
          "name": "stdout"
        }
      ]
    },
    {
      "cell_type": "code",
      "metadata": {
        "id": "-7i852PjbNI4",
        "colab_type": "code",
        "outputId": "11872ced-dc7e-4e4d-810a-ed551ddbc9bd",
        "colab": {
          "base_uri": "https://localhost:8080/",
          "height": 347
        }
      },
      "source": [
        "!pip install gpustat"
      ],
      "execution_count": 0,
      "outputs": [
        {
          "output_type": "stream",
          "text": [
            "Collecting gpustat\n",
            "  Downloading https://files.pythonhosted.org/packages/12/18/7b3b08a7ba21d637c159c8920b183043c5ba1fcdaed6c7dc06e51312af11/gpustat-0.5.0.tar.gz\n",
            "Requirement already satisfied: six>=1.7 in /usr/local/lib/python3.6/dist-packages (from gpustat) (1.12.0)\n",
            "Requirement already satisfied: nvidia-ml-py3>=7.352.0 in /usr/local/lib/python3.6/dist-packages (from gpustat) (7.352.0)\n",
            "Requirement already satisfied: psutil in /usr/local/lib/python3.6/dist-packages (from gpustat) (5.4.8)\n",
            "Collecting blessings>=1.6 (from gpustat)\n",
            "  Downloading https://files.pythonhosted.org/packages/03/74/489f85a78247609c6b4f13733cbf3ba0d864b11aa565617b645d6fdf2a4a/blessings-1.7-py3-none-any.whl\n",
            "Building wheels for collected packages: gpustat\n",
            "  Building wheel for gpustat (setup.py) ... \u001b[?25l\u001b[?25hdone\n",
            "  Stored in directory: /root/.cache/pip/wheels/2e/7a/86/ae2c167876a53a7519aed8ae8543455f50825384268e1d7245\n",
            "Successfully built gpustat\n",
            "Installing collected packages: blessings, gpustat\n",
            "Successfully installed blessings-1.7 gpustat-0.5.0\n"
          ],
          "name": "stdout"
        }
      ]
    },
    {
      "cell_type": "code",
      "metadata": {
        "id": "wn83djrqaXew",
        "colab_type": "code",
        "colab": {}
      },
      "source": [
        "import numpy as np\n",
        "import cv2\n",
        "import glob\n",
        "import matplotlib.pyplot as plt\n",
        "import tensorflow as tf\n",
        "import sklearn.preprocessing\n",
        "import sklearn.metrics\n",
        "from scipy import ndimage"
      ],
      "execution_count": 0,
      "outputs": []
    },
    {
      "cell_type": "code",
      "metadata": {
        "id": "GFP1kxYQaXez",
        "colab_type": "code",
        "colab": {}
      },
      "source": [
        "filenames_x_train = glob.glob(\"nn2019_kaggle3_data/distorted/*.jpg\")\n",
        "filenames_y_train = glob.glob(\"nn2019_kaggle3_data/clean/*.jpg\")\n",
        "filenames_x_test = glob.glob(\"nn2019_kaggle3_data/test_distorted/*.jpg\")\n",
        "\n",
        "filenames_x_train.sort()\n",
        "filenames_y_train.sort()\n",
        "filenames_x_test.sort()\n",
        "\n",
        "x_train_orig = [cv2.imread(img) for img in filenames_x_train]\n",
        "y_train_orig = [cv2.imread(img) for img in filenames_y_train]\n",
        "x_test_orig = [cv2.imread(img) for img in filenames_x_test]"
      ],
      "execution_count": 0,
      "outputs": []
    },
    {
      "cell_type": "code",
      "metadata": {
        "id": "v9051J9_aXe1",
        "colab_type": "code",
        "colab": {}
      },
      "source": [
        "# for img in test:\n",
        "#     plt.imshow(img)\n",
        "#     plt.show()"
      ],
      "execution_count": 0,
      "outputs": []
    },
    {
      "cell_type": "code",
      "metadata": {
        "id": "bDtaBGQsaXe4",
        "colab_type": "code",
        "outputId": "c9cc9ed5-a9af-4eb5-d261-e75b28ad1813",
        "colab": {
          "base_uri": "https://localhost:8080/",
          "height": 34
        }
      },
      "source": [
        "SPLIT = 0.8\n",
        "x_train = np.asarray(x_train_orig[:int(SPLIT*len(x_train_orig))]) / 255\n",
        "x_valid = np.asarray(x_train_orig[int(SPLIT*len(x_train_orig)):]) / 255\n",
        "y_train = np.asarray(y_train_orig[:int(SPLIT*len(x_train_orig))]) / 255\n",
        "y_valid = np.asarray(y_train_orig[int(SPLIT*len(x_train_orig)):]) / 255\n",
        "\n",
        "print(len(x_train), len(x_valid), len(y_train), len(y_valid))"
      ],
      "execution_count": 0,
      "outputs": [
        {
          "output_type": "stream",
          "text": [
            "8000 2000 8000 2000\n"
          ],
          "name": "stdout"
        }
      ]
    },
    {
      "cell_type": "code",
      "metadata": {
        "id": "3UiXDvRmd_6Z",
        "colab_type": "code",
        "colab": {}
      },
      "source": [
        "x_test = np.asarray(x_test_orig) / 255\n",
        "x_test = x_test.reshape((400, 48, 48, 3))"
      ],
      "execution_count": 0,
      "outputs": []
    },
    {
      "cell_type": "code",
      "metadata": {
        "id": "A8YxM6JdaXe-",
        "colab_type": "code",
        "colab": {}
      },
      "source": [
        "# LATENT = 2\n",
        "\n",
        "# input_layer = tf.keras.layers.Input(shape=(48, 48, 3))\n",
        "\n",
        "# x = tf.keras.layers.Conv2D(filters=2**(LATENT+2), kernel_size=3, strides=(2, 2))(input_layer) # 23x23x8\n",
        "# x = tf.keras.layers.ReLU()(x)\n",
        "\n",
        "# x = tf.keras.layers.Conv2D(filters=2**(LATENT+1), kernel_size=3, strides=(2, 2))(x) # 11x11x16\n",
        "# x = tf.keras.layers.ReLU()(x) \n",
        "\n",
        "# x = tf.keras.layers.Conv2D(filters=2**LATENT, kernel_size=3, strides=(2, 2))(x) # 5x5x32\n",
        "# x = tf.keras.layers.ReLU()(x)\n",
        "\n",
        "# # x = tf.keras.layers.Flatten()(x)\n",
        "# # x = tf.keras.layers.Dense(5*5*2**(LATENT))(x)\n",
        "# # x = tf.keras.layers.ReLU()(x)\n",
        "\n",
        "# # x = tf.keras.layers.Reshape((5, 5, 2**(LATENT)))(x)\n",
        "# x = tf.keras.layers.Conv2DTranspose(filters=2**(LATENT), kernel_size=3, strides=(2, 2))(x) # 11x11x16\n",
        "# x = tf.keras.layers.ReLU()(x)\n",
        "\n",
        "# x = tf.keras.layers.Conv2DTranspose(filters=2**(LATENT+1), kernel_size=3, strides=(2, 2))(x) # 23x23x8\n",
        "# x = tf.keras.layers.ReLU()(x)\n",
        "\n",
        "# x = tf.keras.layers.Conv2DTranspose(filters=2**(LATENT+2), kernel_size=3, strides=(2, 2), padding='same')(x) # 46x46x3\n",
        "# x = tf.keras.layers.ReLU()(x)\n",
        "\n",
        "# x = tf.keras.layers.Conv2DTranspose(filters=3, kernel_size=3, strides=(1, 1))(x) # 48x48x3\n",
        "# x = tf.keras.layers.Activation('sigmoid')(x)\n",
        "\n",
        "# model = tf.keras.models.Model(inputs=input_layer, outputs=x)\n",
        "\n",
        "# model.summary()"
      ],
      "execution_count": 0,
      "outputs": []
    },
    {
      "cell_type": "code",
      "metadata": {
        "id": "RbFhDBkU6Bly",
        "colab_type": "code",
        "colab": {}
      },
      "source": [
        "LATENT = 3\n",
        "\n",
        "input_layer = tf.keras.layers.Input(shape=(48, 48, 3))\n",
        "\n",
        "x = tf.keras.layers.GaussianNoise(.2)(input_layer)\n",
        "\n",
        "x = tf.keras.layers.Conv2D(filters=2**(LATENT+5), kernel_size=3)(x) \n",
        "x = tf.keras.layers.ReLU()(x)\n",
        "\n",
        "x = tf.keras.layers.Conv2D(filters=2**(LATENT+4), kernel_size=3)(x) \n",
        "x = tf.keras.layers.ReLU()(x) \n",
        "\n",
        "x = tf.keras.layers.Conv2D(filters=2**(LATENT+3), kernel_size=3)(x) \n",
        "x = tf.keras.layers.ReLU()(x)\n",
        "\n",
        "x = tf.keras.layers.Conv2D(filters=2**(LATENT+2), kernel_size=3)(x) \n",
        "x = tf.keras.layers.ReLU()(x)\n",
        "\n",
        "x = tf.keras.layers.Conv2D(filters=2**(LATENT+1), kernel_size=3)(x) \n",
        "x = tf.keras.layers.ReLU()(x)\n",
        "\n",
        "x = tf.keras.layers.Conv2D(filters=2**(LATENT), kernel_size=3)(x) \n",
        "x = tf.keras.layers.ReLU()(x)\n",
        "\n",
        "x = tf.keras.layers.Conv2DTranspose(filters=2**(LATENT), kernel_size=3)(x)\n",
        "x = tf.keras.layers.ReLU()(x)\n",
        "\n",
        "x = tf.keras.layers.Conv2DTranspose(filters=2**(LATENT+1), kernel_size=3)(x)\n",
        "x = tf.keras.layers.ReLU()(x)\n",
        "\n",
        "x = tf.keras.layers.Conv2DTranspose(filters=2**(LATENT+2), kernel_size=3)(x)\n",
        "x = tf.keras.layers.ReLU()(x)\n",
        "\n",
        "x = tf.keras.layers.Conv2DTranspose(filters=2**(LATENT+3), kernel_size=3)(x)\n",
        "x = tf.keras.layers.ReLU()(x)\n",
        "\n",
        "x = tf.keras.layers.Conv2DTranspose(filters=2**(LATENT+4), kernel_size=3)(x)\n",
        "x = tf.keras.layers.ReLU()(x)\n",
        "\n",
        "x = tf.keras.layers.Conv2DTranspose(filters=3, kernel_size=3)(x)\n",
        "x = tf.keras.layers.Activation('sigmoid')(x)\n",
        "\n",
        "model = tf.keras.models.Model(inputs=input_layer, outputs=x)\n",
        "\n",
        "model.summary()"
      ],
      "execution_count": 0,
      "outputs": []
    },
    {
      "cell_type": "code",
      "metadata": {
        "id": "MELx6eUxaXfH",
        "colab_type": "code",
        "colab": {}
      },
      "source": [
        "model_directory = '.'\n",
        "model_name = 'model'\n",
        "\n",
        "early_stopper = tf.keras.callbacks.EarlyStopping(monitor=\"val_loss\",\n",
        "                              patience=32,\n",
        "                              verbose=True,\n",
        "                              mode=\"auto\")\n",
        "\n",
        "model.compile(optimizer='adam', loss='mse')\n",
        "\n",
        "checkpoint_callback = tf.keras.callbacks.ModelCheckpoint((\"%s%s.h5\" % (model_directory, model_name)),\n",
        "                                      monitor=\"val_loss\",\n",
        "                                      verbose=False,\n",
        "                                      save_best_only=True,\n",
        "                                      mode=\"min\")\n",
        "\n",
        "reduce_lr = tf.keras.callbacks.ReduceLROnPlateau(monitor='val_loss', factor=0.1,\n",
        "                              patience=16)"
      ],
      "execution_count": 0,
      "outputs": []
    },
    {
      "cell_type": "code",
      "metadata": {
        "scrolled": true,
        "id": "UkqUSJCiaXfM",
        "colab_type": "code",
        "colab": {}
      },
      "source": [
        "history = model.fit(x_train,\n",
        "                    y_train,\n",
        "                    epochs=1024,\n",
        "                    batch_size=64,\n",
        "                    validation_data=(x_valid, y_valid),\n",
        "                    verbose=2,\n",
        "                    shuffle=True,\n",
        "                    callbacks=[early_stopper, checkpoint_callback, reduce_lr])"
      ],
      "execution_count": 0,
      "outputs": []
    },
    {
      "cell_type": "code",
      "metadata": {
        "id": "6obpxK5vaXfQ",
        "colab_type": "code",
        "colab": {}
      },
      "source": [
        "model = tf.keras.models.load_model(\"%s%s.h5\" % (model_directory, model_name))"
      ],
      "execution_count": 0,
      "outputs": []
    },
    {
      "cell_type": "code",
      "metadata": {
        "id": "Do3OAr8NaXfS",
        "colab_type": "code",
        "colab": {}
      },
      "source": [
        "y_valid_pred = model.predict(x_valid)"
      ],
      "execution_count": 0,
      "outputs": []
    },
    {
      "cell_type": "code",
      "metadata": {
        "id": "NRZ03s7qaXfV",
        "colab_type": "code",
        "outputId": "03cc6cfb-3440-47e0-dd0b-5be20435c059",
        "colab": {
          "base_uri": "https://localhost:8080/",
          "height": 773
        }
      },
      "source": [
        "idx = 1\n",
        "\n",
        "plt.imshow(x_valid[idx])\n",
        "plt.show()\n",
        "\n",
        "plt.imshow(y_valid_pred[idx])\n",
        "plt.show()\n",
        "\n",
        "plt.imshow(y_valid[idx])\n",
        "plt.show()"
      ],
      "execution_count": 0,
      "outputs": [
        {
          "output_type": "display_data",
          "data": {
            "image/png": "[encoded data removed]",
            "text/plain": [
              "<Figure size 432x288 with 1 Axes>"
            ]
          },
          "metadata": {
            "tags": []
          }
        },
        {
          "output_type": "display_data",
          "data": {
            "image/png": "[encoded data removed]",
            "text/plain": [
              "<Figure size 432x288 with 1 Axes>"
            ]
          },
          "metadata": {
            "tags": []
          }
        },
        {
          "output_type": "display_data",
          "data": {
            "image/png": "[encoded data removed]",
            "text/plain": [
              "<Figure size 432x288 with 1 Axes>"
            ]
          },
          "metadata": {
            "tags": []
          }
        }
      ]
    },
    {
      "cell_type": "code",
      "metadata": {
        "id": "boPfr5FgaXfc",
        "colab_type": "code",
        "outputId": "b3178290-5368-4b04-c291-ea716a27c147",
        "colab": {
          "base_uri": "https://localhost:8080/",
          "height": 34
        }
      },
      "source": [
        "np.sqrt(sklearn.metrics.mean_squared_error(y_valid.reshape(-1), x_valid.reshape(-1)))"
      ],
      "execution_count": 0,
      "outputs": [
        {
          "output_type": "execute_result",
          "data": {
            "text/plain": [
              "0.051738615378986975"
            ]
          },
          "metadata": {
            "tags": []
          },
          "execution_count": 187
        }
      ]
    },
    {
      "cell_type": "code",
      "metadata": {
        "id": "JcQ1hVniaXfi",
        "colab_type": "code",
        "outputId": "f4f853a6-0cab-46b7-d69d-b01304780652",
        "colab": {
          "base_uri": "https://localhost:8080/",
          "height": 34
        }
      },
      "source": [
        "y_valid_pred = model.predict(x_valid)\n",
        "np.sqrt(sklearn.metrics.mean_squared_error(y_valid.reshape(-1), y_valid_pred.reshape(-1)))"
      ],
      "execution_count": 0,
      "outputs": [
        {
          "output_type": "execute_result",
          "data": {
            "text/plain": [
              "0.06624158245281543"
            ]
          },
          "metadata": {
            "tags": []
          },
          "execution_count": 188
        }
      ]
    },
    {
      "cell_type": "code",
      "metadata": {
        "id": "Hzi1P5FHeAcF",
        "colab_type": "code",
        "outputId": "8541a6b8-d105-4db6-e041-6e03cb39703b",
        "colab": {
          "base_uri": "https://localhost:8080/",
          "height": 34
        }
      },
      "source": [
        "y_valid_pred.shape"
      ],
      "execution_count": 0,
      "outputs": [
        {
          "output_type": "execute_result",
          "data": {
            "text/plain": [
              "(2000, 48, 48, 3)"
            ]
          },
          "metadata": {
            "tags": []
          },
          "execution_count": 177
        }
      ]
    },
    {
      "cell_type": "code",
      "metadata": {
        "id": "1crQS20maXfl",
        "colab_type": "code",
        "colab": {}
      },
      "source": [
        "def save_result(images: np.ndarray, out_path: str):\n",
        "    \n",
        "    assert images.shape == (400, 3, 48, 48)\n",
        "    \n",
        "    flat_img = images.reshape(400, -1)\n",
        "    n_rows = np.prod(images.shape)\n",
        "    \n",
        "    y_with_id = np.concatenate([np.arange(n_rows).reshape(-1, 1), flat_img.reshape(n_rows, 1)], axis=1)\n",
        "    np.savetxt(out_path, y_with_id, delimiter=\",\", fmt=['%d', '%.4f'], header=\"id,expetced\", comments='')"
      ],
      "execution_count": 0,
      "outputs": []
    },
    {
      "cell_type": "code",
      "metadata": {
        "id": "mp5oThEBdjgn",
        "colab_type": "code",
        "colab": {}
      },
      "source": [
        "y_test_pred = model.predict(x_test)"
      ],
      "execution_count": 0,
      "outputs": []
    },
    {
      "cell_type": "code",
      "metadata": {
        "id": "Y24YYPdsaXfn",
        "colab_type": "code",
        "colab": {}
      },
      "source": [
        "save_result(y_test_pred.reshape(400, 3, 48, 48), 'submission.csv')"
      ],
      "execution_count": 0,
      "outputs": []
    },
    {
      "cell_type": "code",
      "metadata": {
        "id": "s2D4JepSdxSr",
        "colab_type": "code",
        "colab": {}
      },
      "source": [
        ""
      ],
      "execution_count": 0,
      "outputs": []
    }
  ]
}