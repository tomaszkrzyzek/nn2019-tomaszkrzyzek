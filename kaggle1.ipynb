{
  "nbformat": 4,
  "nbformat_minor": 0,
  "metadata": {
    "colab": {
      "name": "kaggle1.ipynb",
      "version": "0.3.2",
      "provenance": []
    },
    "kernelspec": {
      "name": "python3",
      "display_name": "Python 3"
    },
    "accelerator": "GPU"
  },
  "cells": [
    {
      "metadata": {
        "id": "BugxNtjkiYyy",
        "colab_type": "code",
        "colab": {}
      },
      "cell_type": "code",
      "source": [
        "import tensorflow as tf\n",
        "from tensorflow import keras\n",
        "from sklearn import metrics, preprocessing, ensemble"
      ],
      "execution_count": 0,
      "outputs": []
    },
    {
      "metadata": {
        "id": "GxXpwwAbiYzB",
        "colab_type": "code",
        "colab": {}
      },
      "cell_type": "code",
      "source": [
        "import os\n",
        "import numpy as np\n",
        "from typing import Sequence\n",
        "\n",
        "data_dir = '.'\n",
        "\n",
        "def load_data(which: str):\n",
        "    \"\"\"\n",
        "    Loads data from a csv file\n",
        "    :param which: str\n",
        "        Which data to load, train or test\n",
        "    \"\"\"\n",
        "    assert which in ['train', 'test']\n",
        "    \n",
        "    if which == 'train':\n",
        "        data = np.loadtxt(fname=os.path.join(data_dir, 'train_data.csv'), delimiter=',', skiprows=1)\n",
        "        labels = np.loadtxt(fname=os.path.join(data_dir, 'train_labels.csv'), delimiter=',', skiprows=1)\n",
        "        return data, labels\n",
        "    elif which == 'test':\n",
        "        data = np.loadtxt(fname=os.path.join(data_dir, 'test_data.csv'), delimiter=',', skiprows=1)\n",
        "        return data\n",
        "    \n",
        "def save_prediction(prediction: Sequence[int], \n",
        "                    path: str = 'submission.csv'):\n",
        "    \"\"\"\n",
        "    Saves a sequence of predictions into a csv file with additional index column\n",
        "    :param prediction: Sequ ence of ints\n",
        "        Predictions to save\n",
        "    :param path: str\n",
        "        Path to a file to save into\n",
        "    \"\"\"\n",
        "    \n",
        "    pred_with_id = np.stack([np.arange(len(prediction)), prediction], axis=1)\n",
        "    np.savetxt(fname=path, X=pred_with_id, fmt='%d', delimiter=',', header='id,label', comments='')"
      ],
      "execution_count": 0,
      "outputs": []
    },
    {
      "metadata": {
        "id": "efItoYrjiYzN",
        "colab_type": "code",
        "colab": {}
      },
      "cell_type": "code",
      "source": [
        "X_train, y_train = load_data(which='train')\n",
        "X_test = load_data(which='test')"
      ],
      "execution_count": 0,
      "outputs": []
    },
    {
      "metadata": {
        "id": "bsPNta8GiYzZ",
        "colab_type": "code",
        "colab": {}
      },
      "cell_type": "code",
      "source": [
        "normalizer = preprocessing.StandardScaler()\n",
        "# normalizer = preprocessing.QuantileTransformer(output_distribution='normal')\n",
        "X_train = normalizer.fit_transform(X_train)\n",
        "X_test = normalizer.transform(X_test)"
      ],
      "execution_count": 0,
      "outputs": []
    },
    {
      "metadata": {
        "id": "PfY07s64r_YN",
        "colab_type": "code",
        "colab": {}
      },
      "cell_type": "code",
      "source": [
        "X_wo_valid = X_train[:round(0.75*len(X_train))]\n",
        "y_wo_valid = y_train[:round(0.75*len(y_train))]"
      ],
      "execution_count": 0,
      "outputs": []
    },
    {
      "metadata": {
        "id": "JROoEGTZsp86",
        "colab_type": "code",
        "colab": {}
      },
      "cell_type": "code",
      "source": [
        "X_valid = X_train[round(0.75*len(X_train)):]\n",
        "y_valid = y_train[round(0.75*len(y_train)):]"
      ],
      "execution_count": 0,
      "outputs": []
    },
    {
      "metadata": {
        "id": "O7wja7qv0y8o",
        "colab_type": "code",
        "colab": {
          "base_uri": "https://localhost:8080/",
          "height": 34
        },
        "outputId": "06a5a741-22b6-4ac6-9b39-fdf06655243e"
      },
      "cell_type": "code",
      "source": [
        "from keras.utils import to_categorical\n",
        "y_train_bin = to_categorical(y_train)\n",
        "y_wo_valid_bin = to_categorical(y_wo_valid)\n",
        "y_valid_bin = to_categorical(y_valid)"
      ],
      "execution_count": 7,
      "outputs": [
        {
          "output_type": "stream",
          "text": [
            "Using TensorFlow backend.\n"
          ],
          "name": "stderr"
        }
      ]
    },
    {
      "metadata": {
        "id": "Zm2JrFr_iYzh",
        "colab_type": "code",
        "outputId": "05633de2-2805-42d0-8b7b-800d7aba4cce",
        "colab": {
          "base_uri": "https://localhost:8080/",
          "height": 680
        }
      },
      "cell_type": "code",
      "source": [
        "input_layer = keras.layers.Input(shape=(X_train.shape[1], ))\n",
        "x = keras.layers.Dropout(0.5)(input_layer)\n",
        "\n",
        "x = keras.layers.Dense(342)(input_layer)\n",
        "x = keras.layers.BatchNormalization()(x)\n",
        "x = keras.layers.PReLU()(x)\n",
        "x = keras.layers.Dropout(0.5)(x)\n",
        "\n",
        "x = keras.layers.Dense(342)(x)\n",
        "x = keras.layers.BatchNormalization()(x)\n",
        "x = keras.layers.PReLU()(x)\n",
        "x = keras.layers.Dropout(0.5)(x)\n",
        "\n",
        "x = keras.layers.Dense(342)(x)\n",
        "x = keras.layers.BatchNormalization()(x)\n",
        "x = keras.layers.PReLU()(x)\n",
        "x = keras.layers.Dropout(0.5)(x)\n",
        "\n",
        "x = keras.layers.Dense(10)(x)\n",
        "x = keras.layers.BatchNormalization()(x)\n",
        "x = keras.layers.Softmax()(x)\n",
        "\n",
        "model = keras.models.Model(inputs=input_layer, outputs=x)\n",
        "\n",
        "model.summary()"
      ],
      "execution_count": 56,
      "outputs": [
        {
          "output_type": "stream",
          "text": [
            "_________________________________________________________________\n",
            "Layer (type)                 Output Shape              Param #   \n",
            "=================================================================\n",
            "input_4 (InputLayer)         (None, 342)               0         \n",
            "_________________________________________________________________\n",
            "dense_10 (Dense)             (None, 342)               117306    \n",
            "_________________________________________________________________\n",
            "batch_normalization_v1_10 (B (None, 342)               1368      \n",
            "_________________________________________________________________\n",
            "p_re_lu_7 (PReLU)            (None, 342)               342       \n",
            "_________________________________________________________________\n",
            "dropout_11 (Dropout)         (None, 342)               0         \n",
            "_________________________________________________________________\n",
            "dense_11 (Dense)             (None, 342)               117306    \n",
            "_________________________________________________________________\n",
            "batch_normalization_v1_11 (B (None, 342)               1368      \n",
            "_________________________________________________________________\n",
            "p_re_lu_8 (PReLU)            (None, 342)               342       \n",
            "_________________________________________________________________\n",
            "dropout_12 (Dropout)         (None, 342)               0         \n",
            "_________________________________________________________________\n",
            "dense_12 (Dense)             (None, 342)               117306    \n",
            "_________________________________________________________________\n",
            "batch_normalization_v1_12 (B (None, 342)               1368      \n",
            "_________________________________________________________________\n",
            "p_re_lu_9 (PReLU)            (None, 342)               342       \n",
            "_________________________________________________________________\n",
            "dropout_13 (Dropout)         (None, 342)               0         \n",
            "_________________________________________________________________\n",
            "dense_13 (Dense)             (None, 10)                3430      \n",
            "_________________________________________________________________\n",
            "batch_normalization_v1_13 (B (None, 10)                40        \n",
            "_________________________________________________________________\n",
            "softmax_3 (Softmax)          (None, 10)                0         \n",
            "=================================================================\n",
            "Total params: 360,518\n",
            "Trainable params: 358,446\n",
            "Non-trainable params: 2,072\n",
            "_________________________________________________________________\n"
          ],
          "name": "stdout"
        }
      ]
    },
    {
      "metadata": {
        "id": "FQX5fwKriYz5",
        "colab_type": "code",
        "colab": {}
      },
      "cell_type": "code",
      "source": [
        "model_directory = '.'\n",
        "model_name = 'model'"
      ],
      "execution_count": 0,
      "outputs": []
    },
    {
      "metadata": {
        "id": "MgtPRGl3iY0D",
        "colab_type": "code",
        "colab": {}
      },
      "cell_type": "code",
      "source": [
        "early_stopper = keras.callbacks.EarlyStopping(monitor=\"val_loss\",\n",
        "                              patience=32,\n",
        "                              verbose=True,\n",
        "                              mode=\"auto\")\n",
        "\n",
        "model.compile(optimizer='adam', loss='categorical_crossentropy')\n",
        "\n",
        "checkpoint_callback = keras.callbacks.ModelCheckpoint((\"%s%s.h5\" % (model_directory, model_name)),\n",
        "                                      monitor=\"val_loss\",\n",
        "                                      verbose=False,\n",
        "                                      save_best_only=True,\n",
        "                                      mode=\"min\")\n",
        "\n",
        "reduce_lr = keras.callbacks.ReduceLROnPlateau(monitor='val_loss', factor=0.2,\n",
        "                              patience=8, min_lr=0.001)"
      ],
      "execution_count": 0,
      "outputs": []
    },
    {
      "metadata": {
        "id": "gRvoVVTAiY0M",
        "colab_type": "code",
        "colab": {
          "base_uri": "https://localhost:8080/",
          "height": 1751
        },
        "outputId": "1682950e-e8ba-471c-ec9e-d96c11faa435"
      },
      "cell_type": "code",
      "source": [
        "history = model.fit(X_train,\n",
        "                    y_train_bin,\n",
        "                    epochs=2048,\n",
        "                    batch_size=64,\n",
        "                    validation_split=0.25,\n",
        "#                     verbose=2,\n",
        "                    shuffle=True,\n",
        "                    callbacks=[early_stopper, checkpoint_callback, reduce_lr])"
      ],
      "execution_count": 59,
      "outputs": [
        {
          "output_type": "stream",
          "text": [
            "Train on 44685 samples, validate on 14895 samples\n",
            "Epoch 1/2048\n",
            "44685/44685 [==============================] - 37s 820us/sample - loss: 1.4676 - val_loss: 0.7330\n",
            "Epoch 2/2048\n",
            "44685/44685 [==============================] - 21s 475us/sample - loss: 0.8644 - val_loss: 0.6011\n",
            "Epoch 3/2048\n",
            "44685/44685 [==============================] - 21s 473us/sample - loss: 0.7286 - val_loss: 0.5429\n",
            "Epoch 4/2048\n",
            "44685/44685 [==============================] - 21s 475us/sample - loss: 0.6576 - val_loss: 0.5055\n",
            "Epoch 5/2048\n",
            "44685/44685 [==============================] - 21s 467us/sample - loss: 0.6044 - val_loss: 0.4836\n",
            "Epoch 6/2048\n",
            "44685/44685 [==============================] - 20s 446us/sample - loss: 0.5591 - val_loss: 0.4675\n",
            "Epoch 7/2048\n",
            "44685/44685 [==============================] - 21s 474us/sample - loss: 0.5340 - val_loss: 0.4570\n",
            "Epoch 8/2048\n",
            "44685/44685 [==============================] - 21s 476us/sample - loss: 0.5139 - val_loss: 0.4495\n",
            "Epoch 9/2048\n",
            "44685/44685 [==============================] - 21s 472us/sample - loss: 0.4842 - val_loss: 0.4439\n",
            "Epoch 10/2048\n",
            "44685/44685 [==============================] - 22s 481us/sample - loss: 0.4717 - val_loss: 0.4382\n",
            "Epoch 11/2048\n",
            "44685/44685 [==============================] - 22s 482us/sample - loss: 0.4534 - val_loss: 0.4370\n",
            "Epoch 12/2048\n",
            "44685/44685 [==============================] - 21s 473us/sample - loss: 0.4392 - val_loss: 0.4342\n",
            "Epoch 13/2048\n",
            "44685/44685 [==============================] - 21s 464us/sample - loss: 0.4276 - val_loss: 0.4321\n",
            "Epoch 14/2048\n",
            "44685/44685 [==============================] - 22s 488us/sample - loss: 0.4162 - val_loss: 0.4337\n",
            "Epoch 15/2048\n",
            "44685/44685 [==============================] - 22s 487us/sample - loss: 0.4000 - val_loss: 0.4355\n",
            "Epoch 16/2048\n",
            "44685/44685 [==============================] - 22s 484us/sample - loss: 0.3959 - val_loss: 0.4382\n",
            "Epoch 17/2048\n",
            "44685/44685 [==============================] - 21s 477us/sample - loss: 0.3837 - val_loss: 0.4338\n",
            "Epoch 18/2048\n",
            "44685/44685 [==============================] - 22s 483us/sample - loss: 0.3811 - val_loss: 0.4296\n",
            "Epoch 19/2048\n",
            "44685/44685 [==============================] - 21s 470us/sample - loss: 0.3652 - val_loss: 0.4342\n",
            "Epoch 20/2048\n",
            "44685/44685 [==============================] - 21s 465us/sample - loss: 0.3608 - val_loss: 0.4395\n",
            "Epoch 21/2048\n",
            "44685/44685 [==============================] - 22s 489us/sample - loss: 0.3562 - val_loss: 0.4402\n",
            "Epoch 22/2048\n",
            "44685/44685 [==============================] - 22s 484us/sample - loss: 0.3494 - val_loss: 0.4415\n",
            "Epoch 23/2048\n",
            "44685/44685 [==============================] - 22s 486us/sample - loss: 0.3388 - val_loss: 0.4437\n",
            "Epoch 24/2048\n",
            "44685/44685 [==============================] - 22s 493us/sample - loss: 0.3391 - val_loss: 0.4428\n",
            "Epoch 25/2048\n",
            "44685/44685 [==============================] - 22s 484us/sample - loss: 0.3306 - val_loss: 0.4437\n",
            "Epoch 26/2048\n",
            "44685/44685 [==============================] - 23s 510us/sample - loss: 0.3280 - val_loss: 0.4458\n",
            "Epoch 27/2048\n",
            "44685/44685 [==============================] - 21s 476us/sample - loss: 0.3246 - val_loss: 0.4421\n",
            "Epoch 28/2048\n",
            "44685/44685 [==============================] - 22s 492us/sample - loss: 0.3177 - val_loss: 0.4469\n",
            "Epoch 29/2048\n",
            "44685/44685 [==============================] - 22s 494us/sample - loss: 0.3095 - val_loss: 0.4517\n",
            "Epoch 30/2048\n",
            "44685/44685 [==============================] - 22s 488us/sample - loss: 0.3043 - val_loss: 0.4488\n",
            "Epoch 31/2048\n",
            "44685/44685 [==============================] - 22s 487us/sample - loss: 0.2999 - val_loss: 0.4476\n",
            "Epoch 32/2048\n",
            "44685/44685 [==============================] - 22s 486us/sample - loss: 0.2999 - val_loss: 0.4511\n",
            "Epoch 33/2048\n",
            "44685/44685 [==============================] - 20s 453us/sample - loss: 0.2924 - val_loss: 0.4485\n",
            "Epoch 34/2048\n",
            "44685/44685 [==============================] - 20s 447us/sample - loss: 0.2885 - val_loss: 0.4558\n",
            "Epoch 35/2048\n",
            "44685/44685 [==============================] - 20s 457us/sample - loss: 0.2868 - val_loss: 0.4550\n",
            "Epoch 36/2048\n",
            "44685/44685 [==============================] - 21s 464us/sample - loss: 0.2837 - val_loss: 0.4573\n",
            "Epoch 37/2048\n",
            "44685/44685 [==============================] - 21s 466us/sample - loss: 0.2817 - val_loss: 0.4581\n",
            "Epoch 38/2048\n",
            "44685/44685 [==============================] - 20s 457us/sample - loss: 0.2779 - val_loss: 0.4599\n",
            "Epoch 39/2048\n",
            "44685/44685 [==============================] - 20s 458us/sample - loss: 0.2729 - val_loss: 0.4606\n",
            "Epoch 40/2048\n",
            "44685/44685 [==============================] - 19s 430us/sample - loss: 0.2733 - val_loss: 0.4576\n",
            "Epoch 41/2048\n",
            "44685/44685 [==============================] - 20s 444us/sample - loss: 0.2676 - val_loss: 0.4632\n",
            "Epoch 42/2048\n",
            "44685/44685 [==============================] - 21s 461us/sample - loss: 0.2692 - val_loss: 0.4566\n",
            "Epoch 43/2048\n",
            "44685/44685 [==============================] - 20s 456us/sample - loss: 0.2650 - val_loss: 0.4586\n",
            "Epoch 44/2048\n",
            "44685/44685 [==============================] - 20s 459us/sample - loss: 0.2660 - val_loss: 0.4598\n",
            "Epoch 45/2048\n",
            "44685/44685 [==============================] - 21s 467us/sample - loss: 0.2584 - val_loss: 0.4625\n",
            "Epoch 46/2048\n",
            "44685/44685 [==============================] - 20s 456us/sample - loss: 0.2540 - val_loss: 0.4643\n",
            "Epoch 47/2048\n",
            "44685/44685 [==============================] - 20s 441us/sample - loss: 0.2547 - val_loss: 0.4639\n",
            "Epoch 48/2048\n",
            "44685/44685 [==============================] - 20s 440us/sample - loss: 0.2568 - val_loss: 0.4619\n",
            "Epoch 49/2048\n",
            "44685/44685 [==============================] - 21s 459us/sample - loss: 0.2551 - val_loss: 0.4679\n",
            "Epoch 50/2048\n",
            "44685/44685 [==============================] - 20s 457us/sample - loss: 0.2488 - val_loss: 0.4651\n",
            "Epoch 00050: early stopping\n"
          ],
          "name": "stdout"
        }
      ]
    },
    {
      "metadata": {
        "id": "VwDRSjaniY0W",
        "colab_type": "code",
        "colab": {}
      },
      "cell_type": "code",
      "source": [
        "model = keras.models.load_model(\"%s%s.h5\" % (model_directory, model_name))"
      ],
      "execution_count": 0,
      "outputs": []
    },
    {
      "metadata": {
        "id": "SEp6896bstui",
        "colab_type": "code",
        "colab": {}
      },
      "cell_type": "code",
      "source": [
        "preds_valid = model.predict(X_valid)\n",
        "preds_valid = np.round(np.argmax(preds_valid, axis=1))"
      ],
      "execution_count": 0,
      "outputs": []
    },
    {
      "metadata": {
        "id": "hXeCGhvzswS9",
        "colab_type": "code",
        "outputId": "d90d78c0-d2eb-458d-d34d-bd781bb4c9b5",
        "colab": {
          "base_uri": "https://localhost:8080/",
          "height": 34
        }
      },
      "cell_type": "code",
      "source": [
        "metrics.accuracy_score(y_valid, preds_valid)"
      ],
      "execution_count": 64,
      "outputs": [
        {
          "output_type": "execute_result",
          "data": {
            "text/plain": [
              "0.848069822087949"
            ]
          },
          "metadata": {
            "tags": []
          },
          "execution_count": 64
        }
      ]
    },
    {
      "metadata": {
        "id": "XuxPRBcsiY0h",
        "colab_type": "code",
        "colab": {}
      },
      "cell_type": "code",
      "source": [
        "preds = model.predict(X_test)\n",
        "preds = np.round(np.round(np.argmax(preds, axis=1)))"
      ],
      "execution_count": 0,
      "outputs": []
    },
    {
      "metadata": {
        "scrolled": true,
        "id": "BDiwHERfiY0q",
        "colab_type": "code",
        "colab": {}
      },
      "cell_type": "code",
      "source": [
        "random_pred = np.random.randint(0, 10, size=X_test.shape[0])\n",
        "assert random_pred.shape == preds.shape"
      ],
      "execution_count": 0,
      "outputs": []
    },
    {
      "metadata": {
        "id": "1WQQ4PCciY0x",
        "colab_type": "code",
        "colab": {}
      },
      "cell_type": "code",
      "source": [
        "save_prediction(prediction=preds)"
      ],
      "execution_count": 0,
      "outputs": []
    },
    {
      "metadata": {
        "id": "2OId_G6ylcjK",
        "colab_type": "code",
        "colab": {}
      },
      "cell_type": "code",
      "source": [
        ""
      ],
      "execution_count": 0,
      "outputs": []
    }
  ]
}