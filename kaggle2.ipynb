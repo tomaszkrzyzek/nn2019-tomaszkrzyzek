{
  "nbformat": 4,
  "nbformat_minor": 0,
  "metadata": {
    "colab": {
      "name": "kaggle2.ipynb",
      "version": "0.3.2",
      "provenance": [],
      "collapsed_sections": []
    },
    "language_info": {
      "codemirror_mode": {
        "name": "ipython",
        "version": 3
      },
      "file_extension": ".py",
      "mimetype": "text/x-python",
      "name": "python",
      "nbconvert_exporter": "python",
      "pygments_lexer": "ipython3",
      "version": "3.6.4"
    },
    "kernelspec": {
      "name": "python3",
      "display_name": "Python 3"
    },
    "accelerator": "GPU"
  },
  "cells": [
    {
      "cell_type": "markdown",
      "metadata": {
        "id": "qTnS5hoMI0pX",
        "colab_type": "text"
      },
      "source": [
        "# Funkcje Pomocnicze do Zadania\n",
        "\n",
        "Aby wszystkie funkcje zadziałały, notebook powinien być uruchamiany z następującym ułożeniem katalogów:\n",
        "\n",
        "```\n",
        "|- helpers.ipynb\n",
        "|- sampleSubmission.csv\n",
        "|- train\n",
        " |- {unzipped train files and labels}\n",
        "|- test\n",
        " |- {unzipped test files}\n",
        "```\n",
        "\n",
        "Należy odkomentować u siebie linijki zapisujące pliki."
      ]
    },
    {
      "cell_type": "code",
      "metadata": {
        "id": "E4-AuY-dJzOK",
        "colab_type": "code",
        "colab": {}
      },
      "source": [
        "!mkdir test"
      ],
      "execution_count": 0,
      "outputs": []
    },
    {
      "cell_type": "code",
      "metadata": {
        "id": "U0KFvdZEJ4Cb",
        "colab_type": "code",
        "colab": {}
      },
      "source": [
        "!mkdir train"
      ],
      "execution_count": 0,
      "outputs": []
    },
    {
      "cell_type": "code",
      "metadata": {
        "_cell_guid": "b1076dfc-b9ad-4769-8c92-a6c4dae69d19",
        "_uuid": "8f2839f25d086af736a60e9eeb907d3b93b6e0e5",
        "id": "YgraAP5FI0pc",
        "colab_type": "code",
        "outputId": "64cb8769-71da-4df1-ae80-317576143683",
        "colab": {
          "base_uri": "https://localhost:8080/",
          "height": 63
        }
      },
      "source": [
        "!conda install -c conda-forge -y librosa"
      ],
      "execution_count": 0,
      "outputs": [
        {
          "output_type": "stream",
          "text": [
            "/bin/bash: conda: command not found\n"
          ],
          "name": "stdout"
        }
      ]
    },
    {
      "cell_type": "code",
      "metadata": {
        "_cell_guid": "79c7e3d0-c299-4dcb-8224-4455121ee9b0",
        "_uuid": "d629ff2d2480ee46fbb7e2d37f6b5fab8052498a",
        "id": "LqwrMhOhI0po",
        "colab_type": "code",
        "colab": {}
      },
      "source": [
        "import os\n",
        "\n",
        "import librosa\n",
        "from scipy import signal\n",
        "from scipy.io import wavfile\n",
        "from sklearn.metrics import roc_auc_score\n",
        "import numpy as np\n",
        "import torch\n",
        "from torch.utils.data import TensorDataset, DataLoader\n",
        "from tqdm import tqdm, trange\n",
        "\n",
        "import matplotlib.pyplot as plt\n",
        "import sklearn.ensemble\n",
        "import sklearn.metrics"
      ],
      "execution_count": 0,
      "outputs": []
    },
    {
      "cell_type": "markdown",
      "metadata": {
        "id": "KnfklW-xI0pv",
        "colab_type": "text"
      },
      "source": [
        "# Wczytywanie Danych\n",
        "\n",
        "Poniższe funkcje są przykładowymi funkcjami wczytującymi dane. Możliwe, że będą potrzebne modyfikacje reprezentacji i bardziej skomplikowana funkcja tworząca zbiór treningowy. Wczytywanie danych nie jest zaimplementowane optymalnie - między innymi kod wczytuje wielokrotnie ten sam plik. Dla bardziej złożonych reprezentacji możliwe, że trzeba będzie przepisać te funkcje."
      ]
    },
    {
      "cell_type": "code",
      "metadata": {
        "id": "pJYwIZDdI0py",
        "colab_type": "code",
        "colab": {}
      },
      "source": [
        "def load_mel(file_name, start=0, stop=None, n_mels=60):\n",
        "    '''Wczytuje mel spektrogram z pliku.\n",
        "    \n",
        "    Args:\n",
        "        file_name (str): Nazwa pliku z nagraniem.\n",
        "        start (float): Sekunda, w której zaczyna się interesujący fragment.\n",
        "        stop (float): Sekunda, w której kończy się interesujący fragment.\n",
        "        n_mels (int): Liczba meli na spektrogramie (wysokość spektrogramu).\n",
        "    \n",
        "    Returns:\n",
        "        ndarray: Spektrogram.\n",
        "    '''\n",
        "    samples, sample_rate = librosa.core.load(file_name, sr = None)\n",
        "    samples = samples[int(start * sample_rate):int(stop * sample_rate) if stop else None]\n",
        "    spectrogram = librosa.feature.melspectrogram(y = samples, sr = sample_rate,\n",
        "                                                 n_mels = n_mels, fmin = 4000, fmax = 9500)\n",
        "    return spectrogram\n",
        "\n",
        "\n",
        "def load_spec(file_name, start=0, stop=None):\n",
        "    '''Wczytuje standardowy spektrogram z pliku.\n",
        "    \n",
        "    Args:\n",
        "        file_name (str): Nazwa pliku z nagraniem.\n",
        "        start (float): Sekunda, w której zaczyna się interesujący fragment.\n",
        "        stop (float): Sekunda, w której kończy się interesujący fragment.\n",
        "    \n",
        "    Returns:\n",
        "        ndarray: Spektrogram.\n",
        "    '''\n",
        "    sample_rate, samples = wavfile.read(file_name)\n",
        "    samples = samples[int(start * sample_rate):int(stop * sample_rate) if stop else None]\n",
        "    _, _, spectrogram = signal.spectrogram(samples, sample_rate)\n",
        "    return spectrogram\n",
        "\n",
        "\n",
        "def load_test(load_repr=load_mel):\n",
        "    '''Wczytuje dane testowe.\n",
        "    \n",
        "    Args:\n",
        "        load_repr (function): Funkcja wczytująca pożądaną reprezentację.\n",
        "    \n",
        "    Returns:\n",
        "        ndarray: Tablica z danymi testowymi.\n",
        "    '''\n",
        "    with open('sampleSubmission.csv', 'r') as file:\n",
        "        lines = file.read().split()[1:]\n",
        "        sample_ids = [line.split(',')[0] for line in lines]\n",
        "        samples = np.array([s.split('/') for s in sample_ids])\n",
        "    \n",
        "    X_test = []\n",
        "    rec_files = sorted([file_name for file_name in os.listdir('test') \n",
        "                        if file_name.endswith('.wav')], key=lambda x: int(x.split('.')[0][3:]))\n",
        "    for file_name in rec_files:\n",
        "        recording_id = file_name.split('.')[0][3:]\n",
        "        time_markers = samples[samples[:, 0] == recording_id, 1].astype(np.int)\n",
        "        for t in time_markers:\n",
        "            representation = load_repr(os.path.join('test', file_name), start = t, stop = t + 1)\n",
        "            X_test.append(representation)\n",
        "    return np.array(X_test)\n",
        "\n",
        "\n",
        "def read_labels():\n",
        "    '''Wczytuje etykiety czasowe z pliku labels.txt w folderze train.\n",
        "    \n",
        "    Returns:\n",
        "        ndarray: Tablica z etykietami czasowymi zawierająca kolumny: nr nagrania, sekunda początku dźwięku, sekunda końca dźwięku.\n",
        "    '''\n",
        "    labels = []\n",
        "    with open(os.path.join('train', 'labels.txt'), 'r') as file:\n",
        "        text = file.read()\n",
        "        for line in text.split('\\n')[1:]:\n",
        "            if len(line) > 1:\n",
        "                rec, start, stop = line.split(',')\n",
        "                rec, start, stop = int(rec[3:]), float(start), float(stop)\n",
        "                labels.append([rec, start, stop])\n",
        "    return np.array(labels)\n",
        "\n",
        "\n",
        "def check_voices(second, labels, tol=0.):\n",
        "    '''Sprawdza czy w ramce czasowej [second, second+1] znajduje się głos według etykiet `labels`.\n",
        "    \n",
        "    Args:\n",
        "        second (float): Sekunda nagrania.\n",
        "        labels (ndarray): Tablica z etykietami, której 2 kolumna oznacza początek, a 3-cia - koniec nagrania.\n",
        "        tol (float): Tolerancja na brzegach fragmentu. Dźwięk, żeby był uznany, musi się kończyć po czasie `second+tol`\n",
        "            lub zaczynać przed czasem `second+1-tol`.\n",
        "    Returns:\n",
        "        bool: Czy w ramce czasowej jest odgłos ptaka.\n",
        "    '''\n",
        "    return (labels[1] >= second and labels[1] < second + 1 - tol) or \\\n",
        "           (labels[2] < second + 1 and labels[2] > second + tol) or \\\n",
        "           (labels[1] < second and labels[2] > second + 1)\n",
        "\n",
        "\n",
        "def map_seconds_to_y(labels):\n",
        "    '''Tworzy etykiety dla każdej kolejnej sekundy 10-sekundowego nagrania. -1 oznacza niepewną etykietę (urwane dźwięki na brzegach).\n",
        "    \n",
        "    Args:\n",
        "        labels (ndarray): Tablica z etykietami, której 2 kolumna oznacza początek, a 3-cia - koniec nagrania.\n",
        "    Returns:\n",
        "        ndarray: Tablica z binarnymi etykietami dla każdej z 10 sekund z możliwą niepewną etkietą -1.\n",
        "    '''\n",
        "    y = [0] * 10\n",
        "    y_restrictive = [0] * 10\n",
        "    for s in range(10):\n",
        "        for l in labels:\n",
        "            if check_voices(s, l):\n",
        "                y[s] = 1\n",
        "            if check_voices(s, l, 0.02):\n",
        "                y_restrictive[s] = 1\n",
        "        if y[s] != y_restrictive[s]:\n",
        "            y[s] = -1\n",
        "    return y\n",
        "\n",
        "\n",
        "def load_train(load_repr=load_mel):\n",
        "    '''Wczytuje dane treningowe.\n",
        "    \n",
        "    Args:\n",
        "        load_repr (function): Funkcja wczytująca pożądaną reprezentację.\n",
        "    \n",
        "    Returns:\n",
        "        (ndarray, ndarray): Tablica z danymi treningowymi, tablica z binarnymi etykietami treningowymi.\n",
        "    '''\n",
        "    labels = read_labels()\n",
        "    X_train, y_train = [], []\n",
        "    rec_files = [file_name for file_name in os.listdir('train') if file_name.endswith('.wav')]\n",
        "    for file_name in rec_files:\n",
        "        recording_id = int(file_name.split('.')[0][3:])\n",
        "        recording_labels = labels[labels[:, 0] == recording_id]\n",
        "        y_binary = map_seconds_to_y(recording_labels)\n",
        "        for i, y in enumerate(y_binary):\n",
        "            if y != -1:\n",
        "                try:\n",
        "                    representation = load_repr(os.path.join('train', file_name), start = i, stop = i + 1)\n",
        "                    X_train.append(representation)\n",
        "                    y_train.append(y)\n",
        "                except ValueError:\n",
        "                    print('Error reading file', file_name)\n",
        "                except TypeError:\n",
        "                    print('Unsupported type', file_name)\n",
        "    return np.array(X_train), np.array(y_train)"
      ],
      "execution_count": 0,
      "outputs": []
    },
    {
      "cell_type": "markdown",
      "metadata": {
        "id": "jJAXZiQMI0p4",
        "colab_type": "text"
      },
      "source": [
        "# Zapisywanie Wczytanej Reprezentacji\n",
        "\n",
        "Ponieważ tworzenie reprezentacji może zabierać sporo czasu (szczególnie w tak naiwnej implementacji jak powyższa), warto zapisać wczytane dane do plików."
      ]
    },
    {
      "cell_type": "code",
      "metadata": {
        "id": "Jn-YJKRAI0p5",
        "colab_type": "code",
        "colab": {}
      },
      "source": [
        "# Poniższa linijka ustawia folder główny\n",
        "# os.chdir('../input/')\n",
        "\n",
        "X_test = load_test()\n",
        "# np.save(os.path.join('test', 'tmp_X_test'), X_test)\n",
        "\n",
        "X, y = load_train()\n",
        "# np.save(os.path.join('train', 'tmp_X_train'), X)\n",
        "# np.save(os.path.join('train', 'tmp_y_train'), y)"
      ],
      "execution_count": 0,
      "outputs": []
    },
    {
      "cell_type": "markdown",
      "metadata": {
        "id": "qboDTKBwI0qE",
        "colab_type": "text"
      },
      "source": [
        "# Model i Trenowanie\n",
        "\n",
        "Poniższy przykład używa poprawnych metryk i zapisuje parametry modelu."
      ]
    },
    {
      "cell_type": "code",
      "metadata": {
        "id": "nbR1ICFLFwru",
        "colab_type": "code",
        "colab": {}
      },
      "source": [
        "class Detector(torch.nn.Module):\n",
        "    \n",
        "    def __init__(self):\n",
        "        super().__init__()\n",
        "        self.linear = torch.nn.Linear(60 * 87, 2)\n",
        "    \n",
        "    def forward(self, x):\n",
        "        out = torch.flatten(x, start_dim = 1)\n",
        "        out = self.linear(out)\n",
        "        return out\n",
        "    \n",
        "clf = Detector()"
      ],
      "execution_count": 0,
      "outputs": []
    },
    {
      "cell_type": "code",
      "metadata": {
        "id": "D-mKmMCCOEqk",
        "colab_type": "code",
        "colab": {}
      },
      "source": [
        "class BaseBlock(torch.nn.Module):\n",
        "    \n",
        "    def __init__(self, in_channels, out_channels, hidden_channels=None):\n",
        "        super(BaseBlock, self).__init__()\n",
        "        if not hidden_channels:\n",
        "            hidden_channels = out_channels\n",
        "            \n",
        "        # konwolucja zawiera padding=1, aby nie zmniejszać rozmiaru obrazu\n",
        "        self.conv1 = torch.nn.Conv2d(in_channels, hidden_channels, kernel_size=3, padding=1)\n",
        "        # istnieje wersja batch normalization dla obrazów - statystyki dla filtrów\n",
        "        self.batch_norm1 = torch.nn.BatchNorm2d(hidden_channels)\n",
        "        # nieliniowość ReLU\n",
        "        self.relu1 = torch.nn.ReLU()\n",
        "        \n",
        "        # drugi raz te same warstwy\n",
        "        self.conv2 = torch.nn.Conv2d(hidden_channels, out_channels, kernel_size=3, padding=1)\n",
        "        self.batch_norm2 = torch.nn.BatchNorm2d(out_channels)\n",
        "        self.relu2 = torch.nn.ReLU()\n",
        "    \n",
        "    def forward(self, x):\n",
        "        out = self.relu1(self.batch_norm1(self.conv1(x)))\n",
        "        out = self.relu2(self.batch_norm2(self.conv2(out)))\n",
        "        return out"
      ],
      "execution_count": 0,
      "outputs": []
    },
    {
      "cell_type": "code",
      "metadata": {
        "id": "mrXEvfxXI0qF",
        "colab_type": "code",
        "colab": {}
      },
      "source": [
        "class Detector2(torch.nn.Module):\n",
        "    \n",
        "    def __init__(self, block):\n",
        "        super().__init__()\n",
        "        \n",
        "        # wstępna warstwa konwolucyjna + ReLU\n",
        "        self.conv = torch.nn.Conv2d(1, 16, kernel_size=3, padding=1)\n",
        "        self.relu = torch.nn.ReLU()\n",
        "        \n",
        "        # (mikroarchitektura + max pooling) x 2\n",
        "        self.block1 = block(16, 32)\n",
        "        self.pool1 = torch.nn.MaxPool2d(2)\n",
        "        self.block2 = block(32, 32)\n",
        "        self.pool2 = torch.nn.MaxPool2d(2)\n",
        "        \n",
        "        # warstwa w pełni połączona po \"rozprostowaniu\" obrazu do postaci wektora\n",
        "        self.dense = torch.nn.Linear(10080, 2)\n",
        "    \n",
        "    def forward(self, x):\n",
        "#         out = torch.flatten(x, start_dim = 1)\n",
        "        x = x[:, None, :, :]\n",
        "        out = self.relu(self.conv(x))\n",
        "        out = self.block1(out)\n",
        "        out = self.pool1(out)\n",
        "        out = self.block2(out)\n",
        "        out = self.pool2(out)\n",
        "        out = out.view(out.size(0), -1)\n",
        "        return self.dense(out)"
      ],
      "execution_count": 0,
      "outputs": []
    },
    {
      "cell_type": "code",
      "metadata": {
        "id": "LjnP0gH7v7zI",
        "colab_type": "code",
        "colab": {}
      },
      "source": [
        "class Linear(torch.nn.Module):\n",
        "  \n",
        "    def __init__(self):\n",
        "        super().__init__()\n",
        "        \n",
        "        self.lin = torch.nn.Linear(60 * 87, 512)\n",
        "        self.relu = torch.nn.ReLU()\n",
        "        \n",
        "        self.lin2 = torch.nn.Linear(512, 256)\n",
        "        self.relu = torch.nn.ReLU()\n",
        "        \n",
        "        self.lin3 = torch.nn.Linear(256, 128)\n",
        "        self.relu = torch.nn.ReLU()\n",
        "\n",
        "        self.lin4 = torch.nn.Linear(128, 64)\n",
        "        self.relu = torch.nn.ReLU()\n",
        "\n",
        "        self.lin5 = torch.nn.Linear(64, 32)\n",
        "        self.relu = torch.nn.ReLU()\n",
        "        \n",
        "        self.lin6 = torch.nn.Linear(32, 2)\n",
        "        self.softmax = torch.nn.Softmax(dim=0)\n",
        "    \n",
        "    def forward(self, x):\n",
        "        x = torch.flatten(x, start_dim = 1)\n",
        "        x = self.relu(self.lin(x))\n",
        "        x = self.relu(self.lin2(x))\n",
        "        x = self.relu(self.lin3(x))\n",
        "        x = self.relu(self.lin4(x))\n",
        "        x = self.relu(self.lin5(x))\n",
        "        return self.softmax(self.lin6(x))"
      ],
      "execution_count": 0,
      "outputs": []
    },
    {
      "cell_type": "code",
      "metadata": {
        "id": "O8CCnM3GxrRn",
        "colab_type": "code",
        "colab": {}
      },
      "source": [
        "# clf = Detector2(BaseBlock)\n",
        "# clf = Linear()\n",
        "clf = Detector()\n",
        "\n",
        "trainable_params = sum(p.numel() for p in clf.parameters() if p.requires_grad)\n",
        "print(f\"Trainable parameters: {trainable_params}\")"
      ],
      "execution_count": 0,
      "outputs": []
    },
    {
      "cell_type": "code",
      "metadata": {
        "id": "QCnniAB-I0qK",
        "colab_type": "code",
        "colab": {}
      },
      "source": [
        "# Dzielenie zbioru danych na treningowy i walidacyjny\n",
        "split_point = int(len(X) * 0.8)\n",
        "\n",
        "X_train = torch.Tensor(X[:split_point])\n",
        "y_train = torch.LongTensor(y[:split_point])\n",
        "\n",
        "X_valid = torch.Tensor(X[split_point:])\n",
        "y_valid = torch.LongTensor(y[split_point:])\n",
        "\n",
        "batch_size = 64\n",
        "\n",
        "dataset = TensorDataset(X_train, y_train)\n",
        "data_loader = DataLoader(dataset, batch_size = batch_size, shuffle = True)\n",
        "\n",
        "valid_dataset = TensorDataset(X_valid, y_valid)\n",
        "valid_data_loader = DataLoader(valid_dataset, batch_size = batch_size)"
      ],
      "execution_count": 0,
      "outputs": []
    },
    {
      "cell_type": "code",
      "metadata": {
        "id": "DAHWcWiMfV5u",
        "colab_type": "code",
        "colab": {}
      },
      "source": [
        "mean = np.mean(np.asarray(X_train), axis = (0, 1, 2))\n",
        "std = np.std(np.asarray(X_train), axis = (0, 1, 2))\n",
        "X_train = (X_train - mean) / (std + 1e-8)\n",
        "X_valid = (X_valid - mean) / (std + 1e-8)\n",
        "X_test = (X_test - mean) / (std + 1e-8)"
      ],
      "execution_count": 0,
      "outputs": []
    },
    {
      "cell_type": "code",
      "metadata": {
        "id": "GijU2_yIIh4c",
        "colab_type": "code",
        "outputId": "5cf4f26c-1629-419f-a0f3-0d1ea16c5f62",
        "colab": {
          "base_uri": "https://localhost:8080/",
          "height": 34
        }
      },
      "source": [
        "X_train.shape"
      ],
      "execution_count": 0,
      "outputs": [
        {
          "output_type": "execute_result",
          "data": {
            "text/plain": [
              "torch.Size([2871, 60, 87])"
            ]
          },
          "metadata": {
            "tags": []
          },
          "execution_count": 20
        }
      ]
    },
    {
      "cell_type": "code",
      "metadata": {
        "id": "7eU6SW6kdr4K",
        "colab_type": "code",
        "colab": {}
      },
      "source": [
        "X_train_good = X_train[y_train == 1]\n",
        "X_train_bad = X_train[y_train == 0]"
      ],
      "execution_count": 0,
      "outputs": []
    },
    {
      "cell_type": "code",
      "metadata": {
        "id": "ij5ZWKeMcqlu",
        "colab_type": "code",
        "colab": {}
      },
      "source": [
        "# import cv2\n",
        "\n",
        "# d = X_train_good\n",
        "\n",
        "# kernel = np.ones((3,3),np.uint8)\n",
        "# eroded = cv2.erode(np.asarray(d[0]),kernel,iterations = 1)\n",
        "# dilated = cv2.dilate(np.asarray(d[0]), kernel, iterations=1)\n",
        "\n",
        "# plt.imshow(d[0], cmap='hot', interpolation='None')\n",
        "# plt.colorbar()\n",
        "# plt.show()\n",
        "\n",
        "# plt.imshow(eroded, cmap='hot', interpolation='None')\n",
        "# plt.colorbar()\n",
        "# plt.show()\n",
        "\n",
        "# plt.imshow(dilated, cmap='hot', interpolation='None')\n",
        "# plt.colorbar()\n",
        "# plt.show()"
      ],
      "execution_count": 0,
      "outputs": []
    },
    {
      "cell_type": "code",
      "metadata": {
        "id": "WU1NGlK1Lu0Q",
        "colab_type": "code",
        "outputId": "01157e6c-5143-4a57-ea43-1a20e178bd3b",
        "colab": {
          "base_uri": "https://localhost:8080/",
          "height": 272
        }
      },
      "source": [
        "from matplotlib.colors import LogNorm\n",
        "INDEX_MIN = 0\n",
        "INDEX_MAX = 1\n",
        "BIRD = 0\n",
        "X_plot = X_train[y_train == BIRD]\n",
        "y_plot = y_train[y_train == BIRD]\n",
        "for i in range (INDEX_MIN, INDEX_MAX):\n",
        "  print(y_plot[i])\n",
        "  plt.imshow(X_plot[i], cmap='hot', interpolation='None')\n",
        "  plt.colorbar()\n",
        "  plt.show()"
      ],
      "execution_count": 0,
      "outputs": [
        {
          "output_type": "stream",
          "text": [
            "tensor(0)\n"
          ],
          "name": "stdout"
        },
        {
          "output_type": "display_data",
          "data": {
            "image/png": "[encoded data removed]",
            "text/plain": [
              "<Figure size 432x288 with 2 Axes>"
            ]
          },
          "metadata": {
            "tags": []
          }
        }
      ]
    },
    {
      "cell_type": "code",
      "metadata": {
        "id": "qyY2XptLZKPG",
        "colab_type": "code",
        "colab": {}
      },
      "source": [
        "# rf = sklearn.ensemble.RandomForestClassifier()\n",
        "# rf.fit(X_train.view(2871, 60*87), y_train)"
      ],
      "execution_count": 0,
      "outputs": []
    },
    {
      "cell_type": "code",
      "metadata": {
        "id": "7b4In8xvI0qN",
        "colab_type": "code",
        "colab": {}
      },
      "source": [
        "# Ustawienie kosztu i optimizera\n",
        "criterion = torch.nn.CrossEntropyLoss()\n",
        "optimizer = torch.optim.Adam(clf.parameters())\n",
        "\n",
        "# Pętla uczenia\n",
        "best_preds, best_score = None, 0.\n",
        "losses, scores = [], []\n",
        "for epoch in trange(500):\n",
        "    running_loss = 0\n",
        "    clf.train()\n",
        "    for X, y in data_loader:\n",
        "        optimizer.zero_grad()\n",
        "\n",
        "        outputs = clf(X)\n",
        "        loss = criterion(outputs, y)\n",
        "        loss.backward()\n",
        "        optimizer.step()\n",
        "        \n",
        "        running_loss += loss.item()\n",
        "        \n",
        "    losses.append(running_loss)\n",
        "    \n",
        "    clf.eval()\n",
        "    preds = []\n",
        "    for X, _ in valid_data_loader:\n",
        "        out = clf(X)\n",
        "        preds.append(torch.softmax(out, dim = 1)[:, 1].detach().numpy())\n",
        "    preds = np.concatenate(preds, axis = 0)\n",
        "    \n",
        "    # Metryką testującą jest ROC AUC\n",
        "    score = roc_auc_score(y_valid.numpy(), preds)\n",
        "    scores.append(score)\n",
        "    if score > best_score:\n",
        "        best_score = score\n",
        "        best_preds = preds\n",
        "        np.save('tmp_preds', best_preds)\n",
        "        \n",
        "        # Model dający najlepszy wynik powinien być zapisany\n",
        "        torch.save(clf.state_dict(), 'tmp_model.pt')\n",
        "    print(score)"
      ],
      "execution_count": 0,
      "outputs": []
    },
    {
      "cell_type": "code",
      "metadata": {
        "id": "K_Ij-fAQI0qT",
        "colab_type": "code",
        "colab": {}
      },
      "source": [
        "import matplotlib.pyplot as plt\n",
        "\n",
        "%matplotlib inline\n",
        "\n",
        "# Rysowanie lossu i AUC\n",
        "plt.plot(scores)\n",
        "plt.show()\n",
        "\n",
        "plt.plot(losses)\n",
        "plt.show()"
      ],
      "execution_count": 0,
      "outputs": []
    },
    {
      "cell_type": "markdown",
      "metadata": {
        "id": "H0PeSKlUI0qa",
        "colab_type": "text"
      },
      "source": [
        "# Zapis Predykcji"
      ]
    },
    {
      "cell_type": "code",
      "metadata": {
        "id": "0CvEYOvkI0qc",
        "colab_type": "code",
        "colab": {}
      },
      "source": [
        "def save_predictions(preds):\n",
        "    '''Zapisuje predykcje do pliku zgodnego z formatem odpowiedzi.\n",
        "    \n",
        "    Args:\n",
        "        preds (list): Lista predykcji (prawdopodobieństw).\n",
        "    '''\n",
        "    with open('sampleSubmission.csv', 'r') as file:\n",
        "        submission_text = file.read().split()\n",
        "        header = submission_text[0]\n",
        "        lines = submission_text[1:]\n",
        "\n",
        "    output_lines = [header]\n",
        "    for pred, line in zip(preds, lines):\n",
        "        output_lines.append(\"{},{}\".format(line.split(',')[0], pred))\n",
        "    \n",
        "    with open('mySubmission.csv', 'w') as file:\n",
        "        file.write('\\n'.join(output_lines) + '\\n')"
      ],
      "execution_count": 0,
      "outputs": []
    },
    {
      "cell_type": "code",
      "metadata": {
        "id": "-us9O556I0qh",
        "colab_type": "code",
        "colab": {}
      },
      "source": [
        "# Wczytanie najlepszego modelu\n",
        "# clf.load_state_dict('tmp_model.pt')\n",
        "\n",
        "# Tworzenie data loadera testowego\n",
        "X_test_tensor = torch.Tensor(X_test)\n",
        "\n",
        "test_dataset = TensorDataset(X_test_tensor)\n",
        "test_data_loader = DataLoader(test_dataset, batch_size = batch_size)\n",
        "\n",
        "# Ewaluacja modelu na danych testowych\n",
        "clf.eval()\n",
        "preds = []\n",
        "for X in test_data_loader:\n",
        "    out = clf(X[0])\n",
        "    preds.append(torch.softmax(out, dim = 1)[:, 1].detach().numpy())\n",
        "preds = np.concatenate(preds, axis = 0)\n",
        "\n",
        "# Zapisanie predykcji do poprawnego formatu\n",
        "save_predictions(preds)"
      ],
      "execution_count": 0,
      "outputs": []
    },
    {
      "cell_type": "code",
      "metadata": {
        "id": "9qePzkeqRdG6",
        "colab_type": "code",
        "colab": {}
      },
      "source": [
        "# preds_valid = rf.predict_proba(X_valid.view(X_valid.shape[0], 60*87))[:,1]\n",
        "# print(preds_valid.shape)\n",
        "# auc_valid = sklearn.metrics.roc_auc_score(y_valid, preds_valid)\n",
        "# print(auc_valid)"
      ],
      "execution_count": 0,
      "outputs": []
    },
    {
      "cell_type": "code",
      "metadata": {
        "id": "PYvrPbleCyW6",
        "colab_type": "code",
        "colab": {}
      },
      "source": [
        "preds = rf.predict_proba(torch.Tensor(X_test).view(924, 60*87))[:, 1]\n",
        "save_predictions(preds)"
      ],
      "execution_count": 0,
      "outputs": []
    },
    {
      "cell_type": "code",
      "metadata": {
        "id": "dY5V0pXswCpd",
        "colab_type": "code",
        "colab": {}
      },
      "source": [
        ""
      ],
      "execution_count": 0,
      "outputs": []
    }
  ]
}